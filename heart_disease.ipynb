{
  "nbformat": 4,
  "nbformat_minor": 0,
  "metadata": {
    "colab": {
      "name": "heart deseases.ipynb",
      "provenance": [],
      "authorship_tag": "ABX9TyPqQVALkfmIWKYlaWf1Ul9i",
      "include_colab_link": true
    },
    "kernelspec": {
      "display_name": "Python 3",
      "name": "python3"
    }
  },
  "cells": [
    {
      "cell_type": "markdown",
      "metadata": {
        "id": "view-in-github",
        "colab_type": "text"
      },
      "source": [
        "<a href=\"https://colab.research.google.com/github/felipe-sanches/heart-disease/blob/main/heart_disease.ipynb\" target=\"_parent\"><img src=\"https://colab.research.google.com/assets/colab-badge.svg\" alt=\"Open In Colab\"/></a>"
      ]
    },
    {
      "cell_type": "markdown",
      "metadata": {
        "id": "39jBmZj5jjb3"
      },
      "source": [
        "# Modelo de Classificação "
      ]
    },
    {
      "cell_type": "markdown",
      "metadata": {
        "id": "-lQLswjcYqKk"
      },
      "source": [
        "As etapas são sempre as mesmas: \n",
        "\n",
        "1- importar os pacotes necessários\n",
        "\n",
        "2- escolher e importar um modelo\n",
        "\n",
        "3- escolher e instanciar hyperparameters\n",
        "\n",
        "4- Separar os dados entre feature matrix e target vector-ATENCAO 1 feature\n",
        "\n",
        "4.1- Dividir em treino e teste\n",
        "\n",
        "5- Fit do modelo ( treino)\n",
        "\n",
        "6- Fazer previsoes acima dos novos dados\n",
        "\n"
      ]
    },
    {
      "cell_type": "markdown",
      "metadata": {
        "id": "X7r6NGzlXXaX"
      },
      "source": [
        "# Dicionário de variáveis\n",
        "**age**: idade em anos\n",
        "\n",
        "**sex**: sexo (1 = masculino; 0 = feminino)\n",
        "\n",
        "**cp**: tipo de dor no peito\n",
        "- Valor 1: angina típica\n",
        "- Valor 2: angina atípica\n",
        "- Valor 3: dor não anginosa\n",
        "- Valor 4: assintomático\n",
        "\n",
        "**trestbps**: pressão arterial em repouso (em mm Hg na admissão ao hospital)\n",
        "\n",
        "**chol**: colesterol sérico em mg / dl\n",
        "\n",
        "**fbs**: (açúcar no sangue em jejum> 120 mg / dl) (1 = verdadeiro; 0 = falso)\n",
        "\n",
        "**restecg**: resultados eletrocardiográficos em repouso\n",
        "- Valor 0: normal\n",
        "- Valor 1: tendo anormalidade da onda ST-T (inversões da onda T e / ou elevação ou depressão ST> 0,05 mV)\n",
        "- Valor 2: mostrando hipertrofia ventricular esquerda provável ou definitiva pelos critérios de Estes\n",
        "\n",
        "**thalach**: frequência cardíaca máxima alcançada\n",
        "\n",
        "**exang**: angina induzida por exercício (1 = sim; 0 = não)\n",
        "\n",
        "**oldpeak**: depressão de ST induzida por exercício em relação ao repouso\n",
        "\n",
        "**slope**: a inclinação do segmento ST de pico do exercício\n",
        "- Valor 1: inclinação ascendente\n",
        "- Valor 2: plano\n",
        "- Valor 3: declive\n",
        "\n",
        "**ca**: número de vasos principais (0-3) coloridos por fluorosopia\n",
        "\n",
        "**thal**: 3 = normal; 6 = defeito corrigido; 7 = defeito reversível\n",
        "\n",
        "**num**: diagnóstico de doença cardíaca (status da doença angiográfica)\n",
        "- Valor 0: estreitamento de diâmetro <50%\n",
        "- Valor 1: estreitamento do diâmetro> 50%"
      ]
    },
    {
      "cell_type": "code",
      "metadata": {
        "colab": {
          "base_uri": "https://localhost:8080/",
          "height": 221
        },
        "id": "Rv2tc3H_X7vk",
        "outputId": "892549ab-5ef3-4285-bddc-224e20f63d79"
      },
      "source": [
        "#importando as bibliotecas necessarias\n",
        "import pandas as pd\n",
        "import matplotlib.pyplot as plt\n",
        "#import seaborn as sns\n",
        "\n",
        "#importando dataset\n",
        "df = pd.read_csv('https://raw.githubusercontent.com/felipe-sanches/heart-disease/main/heart-disease-clean.csv')\n",
        "\n",
        "#verificando tamanho do dataset e primeiras entradas\n",
        "print('Tamanho do dataset: ',df.shape)\n",
        "df.head()"
      ],
      "execution_count": 1,
      "outputs": [
        {
          "output_type": "stream",
          "text": [
            "Tamanho do dataset:  (303, 14)\n"
          ],
          "name": "stdout"
        },
        {
          "output_type": "execute_result",
          "data": {
            "text/html": [
              "<div>\n",
              "<style scoped>\n",
              "    .dataframe tbody tr th:only-of-type {\n",
              "        vertical-align: middle;\n",
              "    }\n",
              "\n",
              "    .dataframe tbody tr th {\n",
              "        vertical-align: top;\n",
              "    }\n",
              "\n",
              "    .dataframe thead th {\n",
              "        text-align: right;\n",
              "    }\n",
              "</style>\n",
              "<table border=\"1\" class=\"dataframe\">\n",
              "  <thead>\n",
              "    <tr style=\"text-align: right;\">\n",
              "      <th></th>\n",
              "      <th>age</th>\n",
              "      <th>sex</th>\n",
              "      <th>cp</th>\n",
              "      <th>trestbps</th>\n",
              "      <th>chol</th>\n",
              "      <th>fbs</th>\n",
              "      <th>restecg</th>\n",
              "      <th>thalach</th>\n",
              "      <th>exang</th>\n",
              "      <th>oldpeak</th>\n",
              "      <th>slope</th>\n",
              "      <th>ca</th>\n",
              "      <th>thal</th>\n",
              "      <th>num</th>\n",
              "    </tr>\n",
              "  </thead>\n",
              "  <tbody>\n",
              "    <tr>\n",
              "      <th>0</th>\n",
              "      <td>63.0</td>\n",
              "      <td>1.0</td>\n",
              "      <td>1.0</td>\n",
              "      <td>145.0</td>\n",
              "      <td>233.0</td>\n",
              "      <td>1.0</td>\n",
              "      <td>2.0</td>\n",
              "      <td>150.0</td>\n",
              "      <td>0.0</td>\n",
              "      <td>2.3</td>\n",
              "      <td>3.0</td>\n",
              "      <td>0.0</td>\n",
              "      <td>6.0</td>\n",
              "      <td>0</td>\n",
              "    </tr>\n",
              "    <tr>\n",
              "      <th>1</th>\n",
              "      <td>67.0</td>\n",
              "      <td>1.0</td>\n",
              "      <td>4.0</td>\n",
              "      <td>160.0</td>\n",
              "      <td>286.0</td>\n",
              "      <td>0.0</td>\n",
              "      <td>2.0</td>\n",
              "      <td>108.0</td>\n",
              "      <td>1.0</td>\n",
              "      <td>1.5</td>\n",
              "      <td>2.0</td>\n",
              "      <td>3.0</td>\n",
              "      <td>3.0</td>\n",
              "      <td>1</td>\n",
              "    </tr>\n",
              "    <tr>\n",
              "      <th>2</th>\n",
              "      <td>67.0</td>\n",
              "      <td>1.0</td>\n",
              "      <td>4.0</td>\n",
              "      <td>120.0</td>\n",
              "      <td>229.0</td>\n",
              "      <td>0.0</td>\n",
              "      <td>2.0</td>\n",
              "      <td>129.0</td>\n",
              "      <td>1.0</td>\n",
              "      <td>2.6</td>\n",
              "      <td>2.0</td>\n",
              "      <td>2.0</td>\n",
              "      <td>7.0</td>\n",
              "      <td>1</td>\n",
              "    </tr>\n",
              "    <tr>\n",
              "      <th>3</th>\n",
              "      <td>37.0</td>\n",
              "      <td>1.0</td>\n",
              "      <td>3.0</td>\n",
              "      <td>130.0</td>\n",
              "      <td>250.0</td>\n",
              "      <td>0.0</td>\n",
              "      <td>0.0</td>\n",
              "      <td>187.0</td>\n",
              "      <td>0.0</td>\n",
              "      <td>3.5</td>\n",
              "      <td>3.0</td>\n",
              "      <td>0.0</td>\n",
              "      <td>3.0</td>\n",
              "      <td>0</td>\n",
              "    </tr>\n",
              "    <tr>\n",
              "      <th>4</th>\n",
              "      <td>41.0</td>\n",
              "      <td>0.0</td>\n",
              "      <td>2.0</td>\n",
              "      <td>130.0</td>\n",
              "      <td>204.0</td>\n",
              "      <td>0.0</td>\n",
              "      <td>2.0</td>\n",
              "      <td>172.0</td>\n",
              "      <td>0.0</td>\n",
              "      <td>1.4</td>\n",
              "      <td>1.0</td>\n",
              "      <td>0.0</td>\n",
              "      <td>3.0</td>\n",
              "      <td>0</td>\n",
              "    </tr>\n",
              "  </tbody>\n",
              "</table>\n",
              "</div>"
            ],
            "text/plain": [
              "    age  sex   cp  trestbps   chol  fbs  ...  exang  oldpeak  slope   ca  thal  num\n",
              "0  63.0  1.0  1.0     145.0  233.0  1.0  ...    0.0      2.3    3.0  0.0   6.0    0\n",
              "1  67.0  1.0  4.0     160.0  286.0  0.0  ...    1.0      1.5    2.0  3.0   3.0    1\n",
              "2  67.0  1.0  4.0     120.0  229.0  0.0  ...    1.0      2.6    2.0  2.0   7.0    1\n",
              "3  37.0  1.0  3.0     130.0  250.0  0.0  ...    0.0      3.5    3.0  0.0   3.0    0\n",
              "4  41.0  0.0  2.0     130.0  204.0  0.0  ...    0.0      1.4    1.0  0.0   3.0    0\n",
              "\n",
              "[5 rows x 14 columns]"
            ]
          },
          "metadata": {
            "tags": []
          },
          "execution_count": 1
        }
      ]
    },
    {
      "cell_type": "code",
      "metadata": {
        "id": "WqQwdV1cTaQi"
      },
      "source": [
        ""
      ],
      "execution_count": 1,
      "outputs": []
    },
    {
      "cell_type": "code",
      "metadata": {
        "id": "8ZK-YfyRSF0y"
      },
      "source": [
        "#Importando bibliotecas e o modelo a ser utilizado\n",
        "from sklearn.linear_model import LogisticRegression\n",
        "\n",
        "from sklearn.model_selection import train_test_split\n",
        "from sklearn.preprocessing import StandardScaler\n",
        "from sklearn.metrics import classification_report\n",
        "from sklearn.metrics import confusion_matrix"
      ],
      "execution_count": 2,
      "outputs": []
    },
    {
      "cell_type": "code",
      "metadata": {
        "colab": {
          "base_uri": "https://localhost:8080/"
        },
        "id": "udo2YX2JWoyD",
        "outputId": "9808e310-dda5-4055-860b-0a943c1a39de"
      },
      "source": [
        "#Instanciando modelo e escolhendo hyperparameters\n",
        "model = LogisticRegression()\n",
        "\n",
        "#separando os dados entre feature matrix e target vector\n",
        "X = df.drop('num', axis =1)\n",
        "y = df['num']\n",
        "\n",
        "#Dividindo os dados entre treino e teste\n",
        "X_train, X_test, y_train, y_test = train_test_split(X,y)\n",
        "\n",
        "#Padronizando os dados de treino\n",
        "scaler = StandardScaler().fit(X_train)\n",
        "X_train = scaler.transform(X_train)\n",
        "\n",
        "#Fit do modelo\n",
        "model.fit(X_train, y_train)\n",
        "\n",
        "#Previsões em cima de novos dados\n",
        "\n",
        "##padronização dos dados de teste\n",
        "X_test = scaler.transform(X_test)\n",
        "\n",
        "y_pred = model.predict(X_test)\n",
        "\n",
        "print(y_pred)\n"
      ],
      "execution_count": 3,
      "outputs": [
        {
          "output_type": "stream",
          "text": [
            "[1 1 0 0 1 1 0 1 0 0 0 0 1 1 1 0 0 1 1 0 0 1 1 0 1 0 0 0 1 0 0 1 1 0 1 0 1\n",
            " 1 0 0 1 0 0 1 0 0 0 1 1 1 1 0 0 0 1 1 0 1 1 0 0 1 1 0 1 0 0 1 1 1 0 1 1 1\n",
            " 0 1]\n"
          ],
          "name": "stdout"
        }
      ]
    },
    {
      "cell_type": "code",
      "metadata": {
        "colab": {
          "base_uri": "https://localhost:8080/"
        },
        "id": "HEShffWsER4U",
        "outputId": "901147af-0a95-48f9-f341-1bd47cad1193"
      },
      "source": [
        "df['num'].unique()"
      ],
      "execution_count": 4,
      "outputs": [
        {
          "output_type": "execute_result",
          "data": {
            "text/plain": [
              "array([0, 1])"
            ]
          },
          "metadata": {
            "tags": []
          },
          "execution_count": 4
        }
      ]
    }
  ]
}